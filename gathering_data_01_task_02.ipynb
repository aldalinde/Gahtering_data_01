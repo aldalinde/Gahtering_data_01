{
 "cells": [
  {
   "cell_type": "markdown",
   "metadata": {},
   "source": [
    "2. Изучить список открытых API. Найти среди них любое, требующее авторизацию (любого типа). Выполнить запросы к нему, пройдя авторизацию через Python.Ответ сервера записать в файл "
   ]
  },
  {
   "cell_type": "code",
   "execution_count": 1,
   "metadata": {},
   "outputs": [],
   "source": [
    "import requests\n",
    "import json"
   ]
  },
  {
   "cell_type": "code",
   "execution_count": 2,
   "metadata": {},
   "outputs": [],
   "source": [
    "url = ('https://newsapi.org/v2/top-headlines?'\n",
    "       'country=us&'\n",
    "       'apiKey=6e3dc7d907e14bc9b0900d280bdde0e7')\n",
    "response = requests.get(url)"
   ]
  },
  {
   "cell_type": "markdown",
   "metadata": {},
   "source": [
    "  \"actual\": true,\n",
    "    \"depart_date\": \"2014-10-04\",\n",
    "    \"destination\": \"HKT\",\n",
    "    \"distance\": 8015,\n",
    "    \"found_at\": \"2014-09-09T14:16:07+04:00\",\n",
    "    \"number_of_changes\": 2,\n",
    "    \"origin\": \"LED\",\n",
    "    \"return_date\": \"2014-10-15\",\n",
    "    \"show_to_affiliates\": false,\n",
    "    \"trip_class\": 0,\n",
    "    \"value\": 26197"
   ]
  },
  {
   "cell_type": "code",
   "execution_count": 3,
   "metadata": {},
   "outputs": [],
   "source": [
    "with open('D:/AI/news_response.json', 'wb') as f:\n",
    "    f.write(response.content)\n",
    " "
   ]
  },
  {
   "cell_type": "code",
   "execution_count": null,
   "metadata": {},
   "outputs": [],
   "source": []
  }
 ],
 "metadata": {
  "kernelspec": {
   "display_name": "Python 3",
   "language": "python",
   "name": "python3"
  },
  "language_info": {
   "codemirror_mode": {
    "name": "ipython",
    "version": 3
   },
   "file_extension": ".py",
   "mimetype": "text/x-python",
   "name": "python",
   "nbconvert_exporter": "python",
   "pygments_lexer": "ipython3",
   "version": "3.7.2"
  }
 },
 "nbformat": 4,
 "nbformat_minor": 2
}
